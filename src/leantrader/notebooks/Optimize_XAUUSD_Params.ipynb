{
 "cells": [
  {
   "cell_type": "markdown",
   "id": "7aa598de",
   "metadata": {},
   "source": [
    "\n",
    "# LeanTrader — XAUUSD Parameter Sweep\n",
    "\n",
    "This notebook:\n",
    "- Loads XAUUSD OHLC data from `data/ohlc/XAUUSD_M15.csv`\n",
    "- Runs a parameter sweep for:\n",
    "  - **ADX threshold** (14–30)\n",
    "  - **ATR multiplier** (1.0–2.0)\n",
    "  - **FVG lookback window** (3–10 bars)\n",
    "- Backtests each combo\n",
    "- Computes **Sharpe** and **Max Drawdown**\n",
    "- Suggests the best combo overall and by session (Asia/London/NY)\n"
   ]
  },
  {
   "cell_type": "code",
   "execution_count": null,
   "id": "5d97c3b5",
   "metadata": {},
   "outputs": [],
   "source": [
    "\n",
    "import itertools\n",
    "from pathlib import Path\n",
    "\n",
    "import pandas as pd\n",
    "\n",
    "from leantrader.backtest.engine import backtest\n",
    "from leantrader.backtest.metrics import max_drawdown, sharpe\n",
    "from leantrader.data.feeds import get_ohlc_csv, resample_frames\n",
    "from leantrader.features.microstructure import engineer\n",
    "from leantrader.sessions.manager import which_session\n",
    "\n",
    "DATA_DIR = Path.cwd() / \"data\" / \"ohlc\"\n",
    "path = DATA_DIR / \"XAUUSD_M15.csv\"\n",
    "if not path.exists():\n",
    "    raise FileNotFoundError(\"Missing XAUUSD_M15.csv. Put your data under data/ohlc/\")\n",
    "df = get_ohlc_csv(str(path))\n",
    "frames = resample_frames(df)\n",
    "eng = {k: engineer(v) for k,v in frames.items()}\n"
   ]
  },
  {
   "cell_type": "code",
   "execution_count": null,
   "id": "c19e2638",
   "metadata": {},
   "outputs": [],
   "source": [
    "\n",
    "# Parameter ranges\n",
    "adx_vals = [14, 18, 20, 25, 30]\n",
    "atr_mults = [1.0, 1.2, 1.5, 1.8, 2.0]\n",
    "fvg_windows = [3, 5, 7, 10]\n",
    "\n",
    "combos = list(itertools.product(adx_vals, atr_mults, fvg_windows))\n",
    "print(\"Total combos:\", len(combos))\n"
   ]
  },
  {
   "cell_type": "code",
   "execution_count": null,
   "id": "fb35f1a4",
   "metadata": {},
   "outputs": [],
   "source": [
    "\n",
    "def backtest_combo(adx_thr, atr_mult, fvg_win):\n",
    "    # Copy eng frames shallow\n",
    "    eng2 = {k:v.copy() for k,v in eng.items()}\n",
    "    # Add thresholds into engineered features (mock logic)\n",
    "    # In real case, you'd compile DSL with these params\n",
    "    sigs = pd.DataFrame(index=eng2[\"M15\"].index)\n",
    "    sigs[\"go\"] = 0\n",
    "    sigs[\"side\"] = None\n",
    "    # Fake: go long when ADX>thr, else skip (demo placeholder)\n",
    "    sigs.loc[eng2[\"H1\"][\"adx_14\"] > adx_thr, \"go\"] = 1\n",
    "    sigs.loc[sigs[\"go\"]==1, \"side\"] = \"long\"\n",
    "    eq = backtest(eng2[\"M15\"], sigs, risk_cfg=None)\n",
    "    return eq, sigs\n"
   ]
  },
  {
   "cell_type": "code",
   "execution_count": null,
   "id": "3a32a493",
   "metadata": {},
   "outputs": [],
   "source": [
    "\n",
    "results = []\n",
    "for (adx_thr, atr_mult, fvg_win) in combos:\n",
    "    try:\n",
    "        eq, sigs = backtest_combo(adx_thr, atr_mult, fvg_win)\n",
    "        if eq is None or len(eq)==0: continue\n",
    "        s = sharpe(eq)\n",
    "        mdd = max_drawdown(eq)\n",
    "        results.append({\"adx_thr\":adx_thr,\"atr_mult\":atr_mult,\"fvg_win\":fvg_win,\n",
    "                        \"sharpe\":s,\"maxdd\":mdd})\n",
    "    except Exception as e:\n",
    "        print(\"Err on\", (adx_thr,atr_mult,fvg_win), \":\", e)\n",
    "\n",
    "resdf = pd.DataFrame(results)\n",
    "resdf.sort_values(\"sharpe\", ascending=False).head(10)\n"
   ]
  },
  {
   "cell_type": "code",
   "execution_count": null,
   "id": "79e0b98a",
   "metadata": {},
   "outputs": [],
   "source": [
    "\n",
    "# Best combo overall\n",
    "best = resdf.sort_values(\"sharpe\", ascending=False).iloc[0]\n",
    "print(\"Best overall params:\", best.to_dict())\n"
   ]
  },
  {
   "cell_type": "code",
   "execution_count": null,
   "id": "a964dd41",
   "metadata": {},
   "outputs": [],
   "source": [
    "\n",
    "# Session-specific analysis\n",
    "session_metrics = []\n",
    "for (adx_thr, atr_mult, fvg_win) in combos[:20]:  # top 20 combos for speed\n",
    "    eq, sigs = backtest_combo(adx_thr, atr_mult, fvg_win)\n",
    "    if eq is None or len(eq)==0: continue\n",
    "    df = sigs.copy()\n",
    "    df[\"session\"] = [which_session(pd.Timestamp(ts)) for ts in df.index]\n",
    "    for sess in df[\"session\"].unique():\n",
    "        s_eq = eq[df[\"session\"]==sess]\n",
    "        if len(s_eq)==0: continue\n",
    "        session_metrics.append({\n",
    "            \"adx_thr\":adx_thr,\"atr_mult\":atr_mult,\"fvg_win\":fvg_win,\n",
    "            \"session\":sess,\n",
    "            \"sharpe\":sharpe(s_eq),\n",
    "            \"maxdd\":max_drawdown(s_eq)\n",
    "        })\n",
    "\n",
    "sessdf = pd.DataFrame(session_metrics)\n",
    "sessdf.groupby(\"session\").apply(lambda x: x.sort_values(\"sharpe\",ascending=False).head(3))\n"
   ]
  },
  {
   "cell_type": "markdown",
   "id": "ab0a94e6",
   "metadata": {},
   "source": [
    "\n",
    "## Next steps\n",
    "- Replace the mock `backtest_combo` logic with a DSL compile using the thresholds.\n",
    "- Save best combos per session to a YAML (permanent tuned params).\n",
    "- Integrate into `policy/dispatcher.py` so XAUUSD uses session-optimized params.\n"
   ]
  }
 ],
 "metadata": {},
 "nbformat": 4,
 "nbformat_minor": 5
}
