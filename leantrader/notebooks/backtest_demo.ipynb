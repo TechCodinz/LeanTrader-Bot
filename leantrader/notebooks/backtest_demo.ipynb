{
 "cells": [
  {
   "cell_type": "markdown",
   "id": "7fb27b941602401d91542211134fc71a",
   "metadata": {},
   "source": [
    "# LeanTrader Backtest Demo\n",
    "\n",
    "This notebook demonstrates how to backtest strategies for **XAUUSD, EURUSD, BTCUSDT** using the LeanTrader framework.\n",
    "\n",
    "Steps:\n",
    "1. Load OHLC data (CSV or feeds)\n",
    "2. Resample to required timeframes\n",
    "3. Run features → DSL strategy → signals\n",
    "4. Backtest with ATR-based SL/TP\n",
    "5. Plot equity curve and metrics\n"
   ]
  },
  {
   "cell_type": "code",
   "execution_count": null,
   "id": "acae54e37e7d407bbb7b55eff062a284",
   "metadata": {},
   "outputs": [],
   "source": [
    "import os\n",
    "\n",
    "import matplotlib.pyplot as plt\n",
    "\n",
    "from leantrader.backtest.engine import backtest\n",
    "from leantrader.backtest.metrics import max_drawdown, sharpe\n",
    "from leantrader.config import CFG\n",
    "from leantrader.data.feeds import get_ohlc_csv, resample_frames\n",
    "from leantrader.features.microstructure import engineer\n",
    "from leantrader.policy.dispatcher import run_for_pair\n"
   ]
  },
  {
   "cell_type": "code",
   "execution_count": null,
   "id": "9a63283cbaf04dbcab1f6479b197f3a8",
   "metadata": {},
   "outputs": [],
   "source": [
    "pairs = [\"XAUUSD\", \"EURUSD\", \"BTCUSDT\"]\n",
    "results = {}\n",
    "\n",
    "for pair in pairs:\n",
    "    path = f\"data/ohlc/{pair}_M15.csv\"\n",
    "    if not os.path.exists(path):\n",
    "        print(f\"Missing {path}, skip.\")\n",
    "        continue\n",
    "    df = get_ohlc_csv(path)\n",
    "    frames = resample_frames(df)\n",
    "    eng_frames = {k: engineer(v) for k,v in frames.items()}\n",
    "    sigs = run_for_pair(pair, eng_frames)\n",
    "    eq = backtest(eng_frames[\"M15\"], sigs, CFG.risk)\n",
    "    results[pair] = (sigs, eq)\n",
    "\n",
    "    # Plot equity\n",
    "    eq.plot(title=f\"Equity Curve: {pair}\")\n",
    "    plt.show()\n",
    "\n",
    "    print(pair, \"Sharpe:\", sharpe(eq), \"MaxDD:\", max_drawdown(eq))\n"
   ]
  }
 ],
 "metadata": {
  "kernelspec": {
   "display_name": "Python 3",
   "language": "python",
   "name": "python3"
  },
  "language_info": {
   "name": "python",
   "pygments_lexer": "ipython3"
  }
 },
 "nbformat": 4,
 "nbformat_minor": 5
}