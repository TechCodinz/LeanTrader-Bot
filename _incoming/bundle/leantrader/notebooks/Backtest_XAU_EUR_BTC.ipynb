{
 "cells": [
  {
   "cell_type": "markdown",
   "id": "904f523a",
   "metadata": {},
   "source": [
    "\n",
    "# LeanTrader — Backtest Notebook (XAUUSD / EURUSD / BTCUSDT)\n",
    "\n",
    "This notebook:\n",
    "1. Loads OHLC data from `data/ohlc/` (CSV stubs are included).\n",
    "2. Builds multi-timeframe frames (D1/H4/H1/M15).\n",
    "3. Engineers features (RSI, ADX, FVG, structure).\n",
    "4. Compiles the **XAUUSD**-specific DSL or the house strategy for other pairs.\n",
    "5. Runs the backtest and computes **Sharpe** and **Max Drawdown**.\n",
    "6. Plots equity curves.\n",
    "\n",
    "> Tip: Replace the sample CSVs with your real feeds, then re-run all cells.\n"
   ]
  },
  {
   "cell_type": "code",
   "execution_count": null,
   "id": "fc68581e",
   "metadata": {},
   "outputs": [],
   "source": [
    "\n",
    "import os\n",
    "import pandas as pd\n",
    "from pathlib import Path\n",
    "\n",
    "# If running inside the project repo, set this to your repo root. Here we assume the notebook is under the repo folder.\n",
    "REPO_ROOT = Path.cwd().resolve()\n",
    "DATA_DIR = REPO_ROOT / \"data\" / \"ohlc\"\n",
    "\n",
    "pairs = [\"XAUUSD\", \"EURUSD\", \"BTCUSDT\"]\n",
    "print(\"Looking for data in:\", DATA_DIR)\n",
    "for p in pairs:\n",
    "    print(p, \"->\", (DATA_DIR / f\"{p}_M15.csv\").exists())\n"
   ]
  },
  {
   "cell_type": "code",
   "execution_count": null,
   "id": "06ca630d",
   "metadata": {},
   "outputs": [],
   "source": [
    "\n",
    "import pandas as pd\n",
    "from leantrader.data.feeds import get_ohlc_csv, resample_frames\n",
    "from leantrader.features.microstructure import engineer\n",
    "from leantrader.dsl.compiler import compile_strategy, load_strategy\n",
    "from leantrader.policy.dispatcher import run_for_pair\n",
    "from leantrader.backtest.engine import backtest\n",
    "from leantrader.backtest.metrics import sharpe, max_drawdown\n",
    "\n",
    "def load_frames_for_pair(pair: str):\n",
    "    path = DATA_DIR / f\"{pair}_M15.csv\"\n",
    "    if not path.exists():\n",
    "        raise FileNotFoundError(f\"Missing {path}. Put your M15 CSV with columns: time,open,high,low,close\")\n",
    "    df = get_ohlc_csv(str(path))\n",
    "    frames = resample_frames(df)\n",
    "    return frames\n",
    "\n",
    "def run_strategy_for_pair(pair: str):\n",
    "    frames = load_frames_for_pair(pair)\n",
    "    eng = {k: engineer(v) for k,v in frames.items()}\n",
    "    sigs = run_for_pair(pair, eng)\n",
    "    eq = backtest(eng[\"M15\"], sigs, risk_cfg=None)\n",
    "    return eng, sigs, eq\n",
    "\n",
    "results = {}\n",
    "for pair in pairs:\n",
    "    try:\n",
    "        eng, sigs, eq = run_strategy_for_pair(pair)\n",
    "        results[pair] = {\"eng\": eng, \"sigs\": sigs, \"eq\": eq}\n",
    "        print(f\"{pair}: equity points ->\", len(eq))\n",
    "    except Exception as e:\n",
    "        print(\"Error on\", pair, \":\", e)\n"
   ]
  },
  {
   "cell_type": "code",
   "execution_count": null,
   "id": "4aa61878",
   "metadata": {},
   "outputs": [],
   "source": [
    "\n",
    "from leantrader.backtest.metrics import sharpe, max_drawdown\n",
    "\n",
    "metrics = {}\n",
    "for pair, obj in results.items():\n",
    "    eq = obj[\"eq\"]\n",
    "    if eq is None or len(eq) == 0:\n",
    "        continue\n",
    "    metrics[pair] = {\n",
    "        \"sharpe\": sharpe(eq),\n",
    "        \"max_drawdown\": max_drawdown(eq)\n",
    "    }\n",
    "\n",
    "import pandas as pd\n",
    "m = pd.DataFrame(metrics).T\n",
    "m\n"
   ]
  },
  {
   "cell_type": "code",
   "execution_count": null,
   "id": "da112570",
   "metadata": {},
   "outputs": [],
   "source": [
    "\n",
    "# Plot equity curves (one chart per pair as separate calls)\n",
    "import matplotlib.pyplot as plt\n",
    "\n",
    "for pair, obj in results.items():\n",
    "    eq = obj[\"eq\"]\n",
    "    if eq is None or len(eq) == 0:\n",
    "        continue\n",
    "    plt.figure()\n",
    "    eq.plot(title=f\"Equity Curve — {pair}\")\n",
    "    plt.xlabel(\"Time\")\n",
    "    plt.ylabel(\"Equity (relative)\")\n",
    "    plt.show()\n"
   ]
  },
  {
   "cell_type": "markdown",
   "id": "89a8f3b6",
   "metadata": {},
   "source": [
    "\n",
    "## Next steps\n",
    "- Swap sample CSVs with your real OHLC data.\n",
    "- Use `COPILOT_PLAYBOOK_FINAL.md` to wire live feeds, execution, risk lockouts, and agent supervision.\n",
    "- Expand metrics to include turnover, win rate, average R multiple, and per-session analytics.\n"
   ]
  }
 ],
 "metadata": {},
 "nbformat": 4,
 "nbformat_minor": 5
}
